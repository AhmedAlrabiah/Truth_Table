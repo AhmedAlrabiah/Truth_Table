{
 "cells": [
  {
   "cell_type": "code",
   "execution_count": 2,
   "metadata": {},
   "outputs": [
    {
     "name": "stdout",
     "output_type": "stream",
     "text": [
      "This is a python script that will take a certain number of premises \n",
      "and thier forms and a conclusion to show their truth table.\n",
      "Inspired by the sixth chapter of Understanding Arguments: An Introduction to informal logic\n",
      "by Walter Simmott-Armstrong and Robert Fogelin\n",
      "\n",
      "14/07/2020\n",
      "Ahmed Alrabiah\n"
     ]
    }
   ],
   "source": [
    "print(\"\"\"This is a python script that will take a certain number of premises \n",
    "and thier forms and a conclusion to show their truth table.\n",
    "Inspired by the sixth chapter of Understanding Arguments: An Introduction to informal logic\n",
    "by Walter Simmott-Armstrong and Robert Fogelin\n",
    "\n",
    "14/07/2020\n",
    "Ahmed Alrabiah\"\"\")"
   ]
  },
  {
   "cell_type": "code",
   "execution_count": 43,
   "metadata": {},
   "outputs": [
    {
     "name": "stdout",
     "output_type": "stream",
     "text": [
      "These are the different ways to enter the premises:\n",
      "1. p\n",
      "2. ~p\n",
      "3. p&q\n",
      "4. p or q\n",
      "5. if p then q\n",
      "and their combinations\n",
      "\n",
      "\n",
      "Enter all the premises comma separated (with a space after each comma): \n",
      "~(p or q)&(if r then t)\n",
      "Enter the conclusion: \n",
      "\n"
     ]
    }
   ],
   "source": [
    "import re\n",
    "from tabulate import tabulate\n",
    "print('''These are the different ways to enter the premises:\n",
    "1. p\n",
    "2. ~p\n",
    "3. p&q\n",
    "4. p or q\n",
    "5. if p then q\n",
    "and their combinations\\n\\n''')\n",
    "\n",
    "premises = input(\"Enter all the premises comma separated (with a space after each comma): \\n\")\n",
    "con = input(\"Enter the conclusion: \\n\")\n",
    "\n",
    "pre = {}\n",
    "for i in ''.join(re.split(' or |&|if | then |~| |, ',premises)):#To add the single variables in the pre dictionary\n",
    "    if ((ord(i) >= ord('A')) & (ord(i) <= ord('Z'))) or ((ord(i) >= ord('a') and ord(i) <= ord('z'))):\n",
    "        pre[i] = ''\n",
    "    \n",
    "    \n",
    "pre.pop('', None)\n",
    "premises = premises.split(', ')\n",
    "\n",
    "for i,k in zip(pre.keys(), range(len(pre))): #Write the truth values of the single variables\n",
    "    counter = 0\n",
    "    values = ''\n",
    "    while counter < 2**len(pre):\n",
    "        for j in range(2**len(pre)//2**(k+1)):\n",
    "            values = values + 'T, '\n",
    "            counter += 1\n",
    "        for j in range(2**len(pre)//2**(k+1)):\n",
    "            values = values + 'F, '\n",
    "            counter += 1\n",
    "        pre.update({i: values[:-2]})\n",
    "\n",
    "\n",
    "\n",
    "for i in premises: #To add the negated single variables to the dictionary pre\n",
    "    for j,k in zip(i, range(len(i))):\n",
    "        if j == '~' and (((ord(j) >= ord('A')) & (ord(j) <= ord('Z'))) or ((ord(j) >= ord('a') and ord(j) <= ord('z')))):\n",
    "            pre[j+i[k+1]] = ''\n",
    "\n",
    "for i in premises: #To take what is in the premises\n",
    "    for j in range(len(i)):\n",
    "        flag = False\n",
    "        if i[j] == '(':\n",
    "            x = j+1\n",
    "            flag = True\n",
    "        if i[j] == ')':\n",
    "            pre[i[x:j:]] = ''\n",
    "    if flag == False:\n",
    "        pre[i] = ''\n",
    "            \n",
    "\n",
    "for i in pre.keys(): #The truth values of the negated variables\n",
    "    if '~' == i[:-1]:\n",
    "        for key, value in pre.items():\n",
    "            if key == i[1:]:\n",
    "                pre[i] = value[::-1]"
   ]
  },
  {
   "cell_type": "code",
   "execution_count": 44,
   "metadata": {},
   "outputs": [],
   "source": [
    "for key, value in pre.items(): #add \n",
    "    if value == '':\n",
    "        pass\n",
    "\n",
    "for i in premises: #Add the premises to the dictionary\n",
    "    if i not in pre:\n",
    "        pre[i] = ''"
   ]
  },
  {
   "cell_type": "code",
   "execution_count": 45,
   "metadata": {},
   "outputs": [
    {
     "name": "stdout",
     "output_type": "stream",
     "text": [
      "{'p': 'T, T, T, T, T, T, T, T, F, F, F, F, F, F, F, F', 'q': 'T, T, T, T, F, F, F, F, T, T, T, T, F, F, F, F', 'r': 'T, T, F, F, T, T, F, F, T, T, F, F, T, T, F, F', 't': 'T, F, T, F, T, F, T, F, T, F, T, F, T, F, T, F', 'p or q': '', 'if r then t': '', '~(p or q)&(if r then t)': ''}\n"
     ]
    }
   ],
   "source": [
    "print(pre)"
   ]
  },
  {
   "cell_type": "code",
   "execution_count": null,
   "metadata": {},
   "outputs": [],
   "source": []
  },
  {
   "cell_type": "code",
   "execution_count": null,
   "metadata": {},
   "outputs": [],
   "source": []
  }
 ],
 "metadata": {
  "kernelspec": {
   "display_name": "Python 3",
   "language": "python",
   "name": "python3"
  },
  "language_info": {
   "codemirror_mode": {
    "name": "ipython",
    "version": 3
   },
   "file_extension": ".py",
   "mimetype": "text/x-python",
   "name": "python",
   "nbconvert_exporter": "python",
   "pygments_lexer": "ipython3",
   "version": "3.7.3"
  }
 },
 "nbformat": 4,
 "nbformat_minor": 2
}
